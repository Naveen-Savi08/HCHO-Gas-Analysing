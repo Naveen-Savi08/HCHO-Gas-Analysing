{
 "cells": [
  {
   "cell_type": "code",
   "execution_count": 1,
   "metadata": {},
   "outputs": [],
   "source": [
    "import pyspark\n",
    "import pyspark.sql  as pyspark_sql\n",
    "import pyspark.sql.types as pyspark_types\n",
    "import pyspark.sql.functions  as pyspark_functions\n",
    "from pyspark import SparkContext, SparkConf\n",
    "from pandas import isnull\n",
    "from numpy import count_nonzero\n",
    "from pyspark.sql.functions import col, count, isnan, when, coalesce, lag, lead, sum\n",
    "from pyspark.sql.window import Window\n",
    "\n",
    "import warnings\n",
    "warnings.filterwarnings(\"ignore\")"
   ]
  },
  {
   "cell_type": "code",
   "execution_count": 2,
   "metadata": {},
   "outputs": [],
   "source": [
    "# create the session\n",
    "conf = SparkConf().set(\"spark.ui.port\", \"4050\")\n",
    "\n",
    "# create the context\n",
    "sc = pyspark.SparkContext(conf=conf)\n",
    "spark = pyspark_sql.SparkSession.builder.getOrCreate()"
   ]
  },
  {
   "cell_type": "code",
   "execution_count": 3,
   "metadata": {},
   "outputs": [],
   "source": [
    "# Load the dataset\n",
    "data_frame1 = spark.read.csv(\"Dataset/col_mat_nuw_output.csv\", header=True, inferSchema=True)"
   ]
  },
  {
   "cell_type": "code",
   "execution_count": 4,
   "metadata": {},
   "outputs": [
    {
     "name": "stdout",
     "output_type": "stream",
     "text": [
      "root\n",
      " |-- 0.00019698343957810148: double (nullable = true)\n",
      " |-- Colombo Proper: string (nullable = true)\n",
      " |-- 2019-01-01: date (nullable = true)\n",
      " |-- 2019-01-02: date (nullable = true)\n",
      "\n"
     ]
    }
   ],
   "source": [
    "data_frame1.printSchema()"
   ]
  },
  {
   "cell_type": "code",
   "execution_count": 5,
   "metadata": {},
   "outputs": [
    {
     "name": "stdout",
     "output_type": "stream",
     "text": [
      "+----------------------+--------------+----------+----------+\n",
      "|0.00019698343957810148|Colombo Proper|2019-01-01|2019-01-02|\n",
      "+----------------------+--------------+----------+----------+\n",
      "|  2.625522171968594...|Colombo Proper|2019-01-02|2019-01-03|\n",
      "|  9.852118897938794E-5|Colombo Proper|2019-01-03|2019-01-04|\n",
      "|  2.099320518114242E-4|Colombo Proper|2019-01-04|2019-01-05|\n",
      "|  1.785337298892930...|Colombo Proper|2019-01-05|2019-01-06|\n",
      "|  1.082296700235670...|Colombo Proper|2019-01-06|2019-01-07|\n",
      "|  3.926829280477309...|Colombo Proper|2019-01-07|2019-01-08|\n",
      "|  9.153156350685351E-5|Colombo Proper|2019-01-08|2019-01-09|\n",
      "|  1.205978992853015...|Colombo Proper|2019-01-09|2019-01-10|\n",
      "|  1.297723562983258...|Colombo Proper|2019-01-10|2019-01-11|\n",
      "|  2.239188166801278...|Colombo Proper|2019-01-11|2019-01-12|\n",
      "|  1.569418094178759...|Colombo Proper|2019-01-12|2019-01-13|\n",
      "|                  NULL|Colombo Proper|2019-01-13|2019-01-14|\n",
      "|  1.336291906862603...|Colombo Proper|2019-01-14|2019-01-15|\n",
      "|  6.374417842690063E-5|Colombo Proper|2019-01-15|2019-01-16|\n",
      "|  1.181062250815020...|Colombo Proper|2019-01-16|2019-01-17|\n",
      "|  2.472555222423037...|Colombo Proper|2019-01-17|2019-01-18|\n",
      "|  3.667525352047757E-5|Colombo Proper|2019-01-18|2019-01-19|\n",
      "|  4.057500868150313E-4|Colombo Proper|2019-01-19|2019-01-20|\n",
      "|  1.687856216479722...|Colombo Proper|2019-01-20|2019-01-21|\n",
      "|  3.881549328739672...|Colombo Proper|2019-01-21|2019-01-22|\n",
      "+----------------------+--------------+----------+----------+\n",
      "only showing top 20 rows\n",
      "\n"
     ]
    }
   ],
   "source": [
    "data_frame1.show()"
   ]
  },
  {
   "cell_type": "code",
   "execution_count": 6,
   "metadata": {},
   "outputs": [
    {
     "name": "stdout",
     "output_type": "stream",
     "text": [
      "+--------------------+--------------+------------+----------+\n",
      "|        HCHO reading|      Location|Current Date| Next Date|\n",
      "+--------------------+--------------+------------+----------+\n",
      "|2.625522171968594...|Colombo Proper|  2019-01-02|2019-01-03|\n",
      "|9.852118897938794E-5|Colombo Proper|  2019-01-03|2019-01-04|\n",
      "|2.099320518114242E-4|Colombo Proper|  2019-01-04|2019-01-05|\n",
      "|1.785337298892930...|Colombo Proper|  2019-01-05|2019-01-06|\n",
      "|1.082296700235670...|Colombo Proper|  2019-01-06|2019-01-07|\n",
      "|3.926829280477309...|Colombo Proper|  2019-01-07|2019-01-08|\n",
      "|9.153156350685351E-5|Colombo Proper|  2019-01-08|2019-01-09|\n",
      "|1.205978992853015...|Colombo Proper|  2019-01-09|2019-01-10|\n",
      "|1.297723562983258...|Colombo Proper|  2019-01-10|2019-01-11|\n",
      "|2.239188166801278...|Colombo Proper|  2019-01-11|2019-01-12|\n",
      "|1.569418094178759...|Colombo Proper|  2019-01-12|2019-01-13|\n",
      "|                NULL|Colombo Proper|  2019-01-13|2019-01-14|\n",
      "|1.336291906862603...|Colombo Proper|  2019-01-14|2019-01-15|\n",
      "|6.374417842690063E-5|Colombo Proper|  2019-01-15|2019-01-16|\n",
      "|1.181062250815020...|Colombo Proper|  2019-01-16|2019-01-17|\n",
      "|2.472555222423037...|Colombo Proper|  2019-01-17|2019-01-18|\n",
      "|3.667525352047757E-5|Colombo Proper|  2019-01-18|2019-01-19|\n",
      "|4.057500868150313E-4|Colombo Proper|  2019-01-19|2019-01-20|\n",
      "|1.687856216479722...|Colombo Proper|  2019-01-20|2019-01-21|\n",
      "|3.881549328739672...|Colombo Proper|  2019-01-21|2019-01-22|\n",
      "+--------------------+--------------+------------+----------+\n",
      "only showing top 20 rows\n",
      "\n"
     ]
    }
   ],
   "source": [
    "column_name = ['HCHO reading', 'Location', 'Current Date', 'Next Date']\n",
    "\n",
    "# Rename columns using withColumnRenamed()\n",
    "for i, new_name in enumerate(column_name):\n",
    "    data_frame1 = data_frame1.withColumnRenamed(data_frame1.columns[i], new_name)\n",
    "\n",
    "# Display the DataFrame\n",
    "data_frame1.show()"
   ]
  },
  {
   "cell_type": "code",
   "execution_count": 7,
   "metadata": {},
   "outputs": [
    {
     "name": "stdout",
     "output_type": "stream",
     "text": [
      "root\n",
      " |-- 0.00017607134598773356: double (nullable = true)\n",
      " |-- Kandy Proper: string (nullable = true)\n",
      " |-- 2019-01-01: date (nullable = true)\n",
      " |-- 2019-01-02: date (nullable = true)\n",
      "\n"
     ]
    }
   ],
   "source": [
    "data_frame2 = spark.read.csv(\"Dataset/kan_output.csv\", header=True, inferSchema=True)\n",
    "data_frame2.printSchema()"
   ]
  },
  {
   "cell_type": "code",
   "execution_count": 8,
   "metadata": {},
   "outputs": [
    {
     "name": "stdout",
     "output_type": "stream",
     "text": [
      "+----------------------+------------+----------+----------+\n",
      "|0.00017607134598773356|Kandy Proper|2019-01-01|2019-01-02|\n",
      "+----------------------+------------+----------+----------+\n",
      "|  9.220391253917748E-5|Kandy Proper|2019-01-02|2019-01-03|\n",
      "|                  NULL|Kandy Proper|2019-01-03|2019-01-04|\n",
      "|  1.908681983853839...|Kandy Proper|2019-01-04|2019-01-05|\n",
      "|  1.219517840206744...|Kandy Proper|2019-01-05|2019-01-06|\n",
      "|  -6.51408612938880...|Kandy Proper|2019-01-06|2019-01-07|\n",
      "|    1.6323820639265E-4|Kandy Proper|2019-01-07|2019-01-08|\n",
      "|  -6.73520553391426...|Kandy Proper|2019-01-08|2019-01-09|\n",
      "|  1.279693658243135...|Kandy Proper|2019-01-09|2019-01-10|\n",
      "|  4.546048424126012E-5|Kandy Proper|2019-01-10|2019-01-11|\n",
      "|  3.600074175192105E-5|Kandy Proper|2019-01-11|2019-01-12|\n",
      "|  1.286629698010177E-4|Kandy Proper|2019-01-12|2019-01-13|\n",
      "|                  NULL|Kandy Proper|2019-01-13|2019-01-14|\n",
      "|                  NULL|Kandy Proper|2019-01-14|2019-01-15|\n",
      "|   9.63639634671553E-5|Kandy Proper|2019-01-15|2019-01-16|\n",
      "|                  NULL|Kandy Proper|2019-01-16|2019-01-17|\n",
      "|  1.200971278484736...|Kandy Proper|2019-01-17|2019-01-18|\n",
      "|  -1.19724656713695...|Kandy Proper|2019-01-18|2019-01-19|\n",
      "|  2.825263761529470...|Kandy Proper|2019-01-19|2019-01-20|\n",
      "|  7.150631692646835E-5|Kandy Proper|2019-01-20|2019-01-21|\n",
      "|  2.833741508232604E-4|Kandy Proper|2019-01-21|2019-01-22|\n",
      "+----------------------+------------+----------+----------+\n",
      "only showing top 20 rows\n",
      "\n"
     ]
    }
   ],
   "source": [
    "data_frame2.show()"
   ]
  },
  {
   "cell_type": "code",
   "execution_count": 9,
   "metadata": {},
   "outputs": [
    {
     "name": "stdout",
     "output_type": "stream",
     "text": [
      "+--------------------+------------+------------+----------+\n",
      "|        HCHO reading|    Location|Current Date| Next Date|\n",
      "+--------------------+------------+------------+----------+\n",
      "|9.220391253917748E-5|Kandy Proper|  2019-01-02|2019-01-03|\n",
      "|                NULL|Kandy Proper|  2019-01-03|2019-01-04|\n",
      "|1.908681983853839...|Kandy Proper|  2019-01-04|2019-01-05|\n",
      "|1.219517840206744...|Kandy Proper|  2019-01-05|2019-01-06|\n",
      "|-6.51408612938880...|Kandy Proper|  2019-01-06|2019-01-07|\n",
      "|  1.6323820639265E-4|Kandy Proper|  2019-01-07|2019-01-08|\n",
      "|-6.73520553391426...|Kandy Proper|  2019-01-08|2019-01-09|\n",
      "|1.279693658243135...|Kandy Proper|  2019-01-09|2019-01-10|\n",
      "|4.546048424126012E-5|Kandy Proper|  2019-01-10|2019-01-11|\n",
      "|3.600074175192105E-5|Kandy Proper|  2019-01-11|2019-01-12|\n",
      "|1.286629698010177E-4|Kandy Proper|  2019-01-12|2019-01-13|\n",
      "|                NULL|Kandy Proper|  2019-01-13|2019-01-14|\n",
      "|                NULL|Kandy Proper|  2019-01-14|2019-01-15|\n",
      "| 9.63639634671553E-5|Kandy Proper|  2019-01-15|2019-01-16|\n",
      "|                NULL|Kandy Proper|  2019-01-16|2019-01-17|\n",
      "|1.200971278484736...|Kandy Proper|  2019-01-17|2019-01-18|\n",
      "|-1.19724656713695...|Kandy Proper|  2019-01-18|2019-01-19|\n",
      "|2.825263761529470...|Kandy Proper|  2019-01-19|2019-01-20|\n",
      "|7.150631692646835E-5|Kandy Proper|  2019-01-20|2019-01-21|\n",
      "|2.833741508232604E-4|Kandy Proper|  2019-01-21|2019-01-22|\n",
      "+--------------------+------------+------------+----------+\n",
      "only showing top 20 rows\n",
      "\n"
     ]
    }
   ],
   "source": [
    "column_name = ['HCHO reading', 'Location', 'Current Date', 'Next Date']\n",
    "\n",
    "# Rename columns using withColumnRenamed()\n",
    "for i, new_name in enumerate(column_name):\n",
    "    data_frame2 = data_frame2.withColumnRenamed(data_frame2.columns[i], new_name)\n",
    "\n",
    "# Display the DataFrame\n",
    "data_frame2.show()"
   ]
  },
  {
   "cell_type": "code",
   "execution_count": 10,
   "metadata": {},
   "outputs": [
    {
     "name": "stdout",
     "output_type": "stream",
     "text": [
      "root\n",
      " |-- _c0: double (nullable = true)\n",
      " |-- Bibile, Monaragala: string (nullable = true)\n",
      " |-- 2019-01-01: date (nullable = true)\n",
      " |-- 2019-01-02: date (nullable = true)\n",
      "\n"
     ]
    }
   ],
   "source": [
    "data_frame3 = spark.read.csv(\"Dataset/mon_kur_jaf_output.csv\", header=True, inferSchema=True)\n",
    "data_frame3.printSchema()"
   ]
  },
  {
   "cell_type": "code",
   "execution_count": 11,
   "metadata": {},
   "outputs": [
    {
     "name": "stdout",
     "output_type": "stream",
     "text": [
      "+--------------------+------------------+----------+----------+\n",
      "|                 _c0|Bibile, Monaragala|2019-01-01|2019-01-02|\n",
      "+--------------------+------------------+----------+----------+\n",
      "|1.919914652467399E-5|Bibile, Monaragala|2019-01-02|2019-01-03|\n",
      "|2.811447935930283...|Bibile, Monaragala|2019-01-03|2019-01-04|\n",
      "|3.747998184385943E-5|Bibile, Monaragala|2019-01-04|2019-01-05|\n",
      "|-1.79826087934531...|Bibile, Monaragala|2019-01-05|2019-01-06|\n",
      "|1.457836896179902...|Bibile, Monaragala|2019-01-06|2019-01-07|\n",
      "|2.828590802546534...|Bibile, Monaragala|2019-01-07|2019-01-08|\n",
      "|                NULL|Bibile, Monaragala|2019-01-08|2019-01-09|\n",
      "|1.420850167050957...|Bibile, Monaragala|2019-01-09|2019-01-10|\n",
      "|                NULL|Bibile, Monaragala|2019-01-10|2019-01-11|\n",
      "|2.014587947072581E-5|Bibile, Monaragala|2019-01-11|2019-01-12|\n",
      "|1.582787663210183...|Bibile, Monaragala|2019-01-12|2019-01-13|\n",
      "|                NULL|Bibile, Monaragala|2019-01-13|2019-01-14|\n",
      "|                NULL|Bibile, Monaragala|2019-01-14|2019-01-15|\n",
      "|9.952823849642218E-5|Bibile, Monaragala|2019-01-15|2019-01-16|\n",
      "|7.484570960514249E-5|Bibile, Monaragala|2019-01-16|2019-01-17|\n",
      "|7.736112226328797E-5|Bibile, Monaragala|2019-01-17|2019-01-18|\n",
      "|                NULL|Bibile, Monaragala|2019-01-18|2019-01-19|\n",
      "|3.988141010407665...|Bibile, Monaragala|2019-01-19|2019-01-20|\n",
      "|1.891620203853342...|Bibile, Monaragala|2019-01-20|2019-01-21|\n",
      "|1.159969926423745...|Bibile, Monaragala|2019-01-21|2019-01-22|\n",
      "+--------------------+------------------+----------+----------+\n",
      "only showing top 20 rows\n",
      "\n"
     ]
    }
   ],
   "source": [
    "data_frame3.show()"
   ]
  },
  {
   "cell_type": "code",
   "execution_count": 12,
   "metadata": {},
   "outputs": [
    {
     "name": "stdout",
     "output_type": "stream",
     "text": [
      "+--------------------+------------------+------------+----------+\n",
      "|        HCHO reading|          Location|Current Date| Next Date|\n",
      "+--------------------+------------------+------------+----------+\n",
      "|1.919914652467399E-5|Bibile, Monaragala|  2019-01-02|2019-01-03|\n",
      "|2.811447935930283...|Bibile, Monaragala|  2019-01-03|2019-01-04|\n",
      "|3.747998184385943E-5|Bibile, Monaragala|  2019-01-04|2019-01-05|\n",
      "|-1.79826087934531...|Bibile, Monaragala|  2019-01-05|2019-01-06|\n",
      "|1.457836896179902...|Bibile, Monaragala|  2019-01-06|2019-01-07|\n",
      "|2.828590802546534...|Bibile, Monaragala|  2019-01-07|2019-01-08|\n",
      "|                NULL|Bibile, Monaragala|  2019-01-08|2019-01-09|\n",
      "|1.420850167050957...|Bibile, Monaragala|  2019-01-09|2019-01-10|\n",
      "|                NULL|Bibile, Monaragala|  2019-01-10|2019-01-11|\n",
      "|2.014587947072581E-5|Bibile, Monaragala|  2019-01-11|2019-01-12|\n",
      "|1.582787663210183...|Bibile, Monaragala|  2019-01-12|2019-01-13|\n",
      "|                NULL|Bibile, Monaragala|  2019-01-13|2019-01-14|\n",
      "|                NULL|Bibile, Monaragala|  2019-01-14|2019-01-15|\n",
      "|9.952823849642218E-5|Bibile, Monaragala|  2019-01-15|2019-01-16|\n",
      "|7.484570960514249E-5|Bibile, Monaragala|  2019-01-16|2019-01-17|\n",
      "|7.736112226328797E-5|Bibile, Monaragala|  2019-01-17|2019-01-18|\n",
      "|                NULL|Bibile, Monaragala|  2019-01-18|2019-01-19|\n",
      "|3.988141010407665...|Bibile, Monaragala|  2019-01-19|2019-01-20|\n",
      "|1.891620203853342...|Bibile, Monaragala|  2019-01-20|2019-01-21|\n",
      "|1.159969926423745...|Bibile, Monaragala|  2019-01-21|2019-01-22|\n",
      "+--------------------+------------------+------------+----------+\n",
      "only showing top 20 rows\n",
      "\n"
     ]
    }
   ],
   "source": [
    "column_name = ['HCHO reading', 'Location', 'Current Date', 'Next Date']\n",
    "\n",
    "# Rename columns using withColumnRenamed()\n",
    "for i, new_name in enumerate(column_name):\n",
    "    data_frame3 = data_frame3.withColumnRenamed(data_frame3.columns[i], new_name)\n",
    "\n",
    "# Display the DataFrame\n",
    "data_frame3.show()"
   ]
  },
  {
   "cell_type": "code",
   "execution_count": 15,
   "metadata": {},
   "outputs": [
    {
     "name": "stdout",
     "output_type": "stream",
     "text": [
      "+--------------------+--------------+------------+----------+\n",
      "|        HCHO reading|      Location|Current Date| Next Date|\n",
      "+--------------------+--------------+------------+----------+\n",
      "|2.625522171968594...|Colombo Proper|  2019-01-02|2019-01-03|\n",
      "|9.852118897938794E-5|Colombo Proper|  2019-01-03|2019-01-04|\n",
      "|2.099320518114242E-4|Colombo Proper|  2019-01-04|2019-01-05|\n",
      "|1.785337298892930...|Colombo Proper|  2019-01-05|2019-01-06|\n",
      "|1.082296700235670...|Colombo Proper|  2019-01-06|2019-01-07|\n",
      "|3.926829280477309...|Colombo Proper|  2019-01-07|2019-01-08|\n",
      "|9.153156350685351E-5|Colombo Proper|  2019-01-08|2019-01-09|\n",
      "|1.205978992853015...|Colombo Proper|  2019-01-09|2019-01-10|\n",
      "|1.297723562983258...|Colombo Proper|  2019-01-10|2019-01-11|\n",
      "|2.239188166801278...|Colombo Proper|  2019-01-11|2019-01-12|\n",
      "|1.569418094178759...|Colombo Proper|  2019-01-12|2019-01-13|\n",
      "|                NULL|Colombo Proper|  2019-01-13|2019-01-14|\n",
      "|1.336291906862603...|Colombo Proper|  2019-01-14|2019-01-15|\n",
      "|6.374417842690063E-5|Colombo Proper|  2019-01-15|2019-01-16|\n",
      "|1.181062250815020...|Colombo Proper|  2019-01-16|2019-01-17|\n",
      "|2.472555222423037...|Colombo Proper|  2019-01-17|2019-01-18|\n",
      "|3.667525352047757E-5|Colombo Proper|  2019-01-18|2019-01-19|\n",
      "|4.057500868150313E-4|Colombo Proper|  2019-01-19|2019-01-20|\n",
      "|1.687856216479722...|Colombo Proper|  2019-01-20|2019-01-21|\n",
      "|3.881549328739672...|Colombo Proper|  2019-01-21|2019-01-22|\n",
      "+--------------------+--------------+------------+----------+\n",
      "only showing top 20 rows\n",
      "\n"
     ]
    }
   ],
   "source": [
    "# Concatenate DataFrames vertically\n",
    "concat_df = data_frame1.union(data_frame2).union(data_frame3)\n",
    "concat_df.show()"
   ]
  },
  {
   "cell_type": "code",
   "execution_count": 19,
   "metadata": {},
   "outputs": [],
   "source": [
    "import pandas as pd\n",
    "# Covert pyspark dataframe to pandas dataframe \n",
    "pandas_data_frame = concat_df.toPandas()\n",
    "# Path that i want to save \n",
    "save_path = \"Dataset/Concat_pandas.csv\"\n",
    "# Save the pandas df to csv\n",
    "pandas_data_frame.to_csv(save_path, index=False)"
   ]
  },
  {
   "cell_type": "markdown",
   "metadata": {},
   "source": [
    "# Null Values "
   ]
  },
  {
   "cell_type": "code",
   "execution_count": 20,
   "metadata": {},
   "outputs": [
    {
     "name": "stdout",
     "output_type": "stream",
     "text": [
      "+------------+--------+------------+---------+\n",
      "|HCHO reading|Location|Current Date|Next Date|\n",
      "+------------+--------+------------+---------+\n",
      "|        4863|       0|           0|        0|\n",
      "+------------+--------+------------+---------+\n",
      "\n"
     ]
    }
   ],
   "source": [
    "# Check for null values in each column\n",
    "concat_df.select(*(sum(col(c).isNull().cast(\"int\")).alias(c) for c in concat_df.columns)).show()"
   ]
  },
  {
   "cell_type": "code",
   "execution_count": 22,
   "metadata": {},
   "outputs": [],
   "source": [
    "null_hcho = concat_df.filter(col(\"HCHO reading\").isNull()).count()\n",
    "\n",
    "# continue until there are no nulls left\n",
    "while null_hcho > 0:\n",
    "    # window specs\n",
    "    backward_windowSpec = Window.orderBy(\"Current Date\")\n",
    "    forward_windowSpec = Window.orderBy(\"Current Date\")\n",
    "    \n",
    "    #using lag to carry last observation forward\n",
    "    previous_value = lag(\"HCHO reading\", 1).over(backward_windowSpec)\n",
    "    concat_df = concat_df.withColumn(\"HCHO reading\", coalesce(\"HCHO reading\", previous_value))\n",
    "    \n",
    "    # using lead to carry next observation backward\n",
    "    next_value = lead(\"HCHO reading\", 1).over(forward_windowSpec)\n",
    "    concat_df = concat_df.withColumn(\"HCHO reading\", coalesce(\"HCHO reading\", next_value))\n",
    "    \n",
    "    #updating null counts\n",
    "    null_hcho = concat_df.filter(col(\"HCHO reading\").isNull()).count()"
   ]
  },
  {
   "cell_type": "code",
   "execution_count": 23,
   "metadata": {},
   "outputs": [
    {
     "name": "stdout",
     "output_type": "stream",
     "text": [
      "+------------+--------+------------+---------+\n",
      "|HCHO reading|Location|Current Date|Next Date|\n",
      "+------------+--------+------------+---------+\n",
      "|           0|       0|           0|        0|\n",
      "+------------+--------+------------+---------+\n",
      "\n"
     ]
    }
   ],
   "source": [
    "# Check for null values in each column\n",
    "concat_df.select(*(sum(col(c).isNull().cast(\"int\")).alias(c) for c in concat_df.columns)).show()"
   ]
  },
  {
   "cell_type": "code",
   "execution_count": 28,
   "metadata": {},
   "outputs": [
    {
     "data": {
      "image/png": "[encoded data removed]",
      "text/plain": [
       "<Figure size 640x480 with 1 Axes>"
      ]
     },
     "metadata": {},
     "output_type": "display_data"
    }
   ],
   "source": [
    "import matplotlib.pyplot as plt\n",
    "\n",
    "pandas_data_frame = concat_df.toPandas()\n",
    "\n",
    "# Plot the histogram\n",
    "plt.hist(pandas_data_frame['HCHO reading'], bins=20, color='skyblue', edgecolor='black')\n",
    "\n",
    "# Add labels and title\n",
    "plt.xlabel('HCHO Reading')\n",
    "plt.ylabel('Frequency')\n",
    "plt.title('Histogram of HCHO Reading')\n",
    "\n",
    "# Show the plot\n",
    "plt.show()"
   ]
  },
  {
   "cell_type": "markdown",
   "metadata": {},
   "source": [
    "# Outliers"
   ]
  },
  {
   "cell_type": "markdown",
   "metadata": {},
   "source": []
  }
 ],
 "metadata": {
  "kernelspec": {
   "display_name": "Python 3",
   "language": "python",
   "name": "python3"
  },
  "language_info": {
   "codemirror_mode": {
    "name": "ipython",
    "version": 3
   },
   "file_extension": ".py",
   "mimetype": "text/x-python",
   "name": "python",
   "nbconvert_exporter": "python",
   "pygments_lexer": "ipython3",
   "version": "3.11.2"
  }
 },
 "nbformat": 4,
 "nbformat_minor": 2
}
