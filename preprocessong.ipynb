{
 "cells": [
  {
   "cell_type": "code",
   "execution_count": 1,
   "metadata": {},
   "outputs": [],
   "source": [
    "import pyspark\n",
    "import pyspark.sql  as pyspark_sql\n",
    "import pyspark.sql.types as pyspark_types\n",
    "import pyspark.sql.functions  as pyspark_functions\n",
    "from pyspark import SparkContext, SparkConf\n",
    "from pandas import isnull\n",
    "from numpy import count_nonzero\n",
    "from pyspark.sql.functions import col, count, isnan, when, coalesce, lag, lead, sum\n",
    "from pyspark.sql.window import Window\n",
    "\n",
    "import warnings\n",
    "warnings.filterwarnings(\"ignore\")"
   ]
  },
  {
   "cell_type": "code",
   "execution_count": 2,
   "metadata": {},
   "outputs": [],
   "source": [
    "# create the session\n",
    "conf = SparkConf().set(\"spark.ui.port\", \"4050\")\n",
    "\n",
    "# create the context\n",
    "sc = pyspark.SparkContext(conf=conf)\n",
    "spark = pyspark_sql.SparkSession.builder.getOrCreate()"
   ]
  },
  {
   "cell_type": "code",
   "execution_count": 3,
   "metadata": {},
   "outputs": [],
   "source": [
    "# Load the dataset\n",
    "data_frame1 = spark.read.csv(\"Dataset/col_mat_nuw_output.csv\", header=True, inferSchema=True)"
   ]
  },
  {
   "cell_type": "code",
   "execution_count": 4,
   "metadata": {},
   "outputs": [
    {
     "name": "stdout",
     "output_type": "stream",
     "text": [
      "root\n",
      " |-- 0.00019698343957810148: double (nullable = true)\n",
      " |-- Colombo Proper: string (nullable = true)\n",
      " |-- 2019-01-01: date (nullable = true)\n",
      " |-- 2019-01-02: date (nullable = true)\n",
      "\n"
     ]
    }
   ],
   "source": [
    "data_frame1.printSchema()"
   ]
  },
  {
   "cell_type": "code",
   "execution_count": 5,
   "metadata": {},
   "outputs": [
    {
     "name": "stdout",
     "output_type": "stream",
     "text": [
      "+----------------------+--------------+----------+----------+\n",
      "|0.00019698343957810148|Colombo Proper|2019-01-01|2019-01-02|\n",
      "+----------------------+--------------+----------+----------+\n",
      "|  2.625522171968594...|Colombo Proper|2019-01-02|2019-01-03|\n",
      "|  9.852118897938794E-5|Colombo Proper|2019-01-03|2019-01-04|\n",
      "|  2.099320518114242E-4|Colombo Proper|2019-01-04|2019-01-05|\n",
      "|  1.785337298892930...|Colombo Proper|2019-01-05|2019-01-06|\n",
      "|  1.082296700235670...|Colombo Proper|2019-01-06|2019-01-07|\n",
      "|  3.926829280477309...|Colombo Proper|2019-01-07|2019-01-08|\n",
      "|  9.153156350685351E-5|Colombo Proper|2019-01-08|2019-01-09|\n",
      "|  1.205978992853015...|Colombo Proper|2019-01-09|2019-01-10|\n",
      "|  1.297723562983258...|Colombo Proper|2019-01-10|2019-01-11|\n",
      "|  2.239188166801278...|Colombo Proper|2019-01-11|2019-01-12|\n",
      "|  1.569418094178759...|Colombo Proper|2019-01-12|2019-01-13|\n",
      "|                  NULL|Colombo Proper|2019-01-13|2019-01-14|\n",
      "|  1.336291906862603...|Colombo Proper|2019-01-14|2019-01-15|\n",
      "|  6.374417842690063E-5|Colombo Proper|2019-01-15|2019-01-16|\n",
      "|  1.181062250815020...|Colombo Proper|2019-01-16|2019-01-17|\n",
      "|  2.472555222423037...|Colombo Proper|2019-01-17|2019-01-18|\n",
      "|  3.667525352047757E-5|Colombo Proper|2019-01-18|2019-01-19|\n",
      "|  4.057500868150313E-4|Colombo Proper|2019-01-19|2019-01-20|\n",
      "|  1.687856216479722...|Colombo Proper|2019-01-20|2019-01-21|\n",
      "|  3.881549328739672...|Colombo Proper|2019-01-21|2019-01-22|\n",
      "+----------------------+--------------+----------+----------+\n",
      "only showing top 20 rows\n",
      "\n"
     ]
    }
   ],
   "source": [
    "data_frame1.show()"
   ]
  },
  {
   "cell_type": "code",
   "execution_count": 6,
   "metadata": {},
   "outputs": [
    {
     "name": "stdout",
     "output_type": "stream",
     "text": [
      "+--------------------+--------------+------------+----------+\n",
      "|        HCHO reading|      Location|Current Date| Next Date|\n",
      "+--------------------+--------------+------------+----------+\n",
      "|2.625522171968594...|Colombo Proper|  2019-01-02|2019-01-03|\n",
      "|9.852118897938794E-5|Colombo Proper|  2019-01-03|2019-01-04|\n",
      "|2.099320518114242E-4|Colombo Proper|  2019-01-04|2019-01-05|\n",
      "|1.785337298892930...|Colombo Proper|  2019-01-05|2019-01-06|\n",
      "|1.082296700235670...|Colombo Proper|  2019-01-06|2019-01-07|\n",
      "|3.926829280477309...|Colombo Proper|  2019-01-07|2019-01-08|\n",
      "|9.153156350685351E-5|Colombo Proper|  2019-01-08|2019-01-09|\n",
      "|1.205978992853015...|Colombo Proper|  2019-01-09|2019-01-10|\n",
      "|1.297723562983258...|Colombo Proper|  2019-01-10|2019-01-11|\n",
      "|2.239188166801278...|Colombo Proper|  2019-01-11|2019-01-12|\n",
      "|1.569418094178759...|Colombo Proper|  2019-01-12|2019-01-13|\n",
      "|                NULL|Colombo Proper|  2019-01-13|2019-01-14|\n",
      "|1.336291906862603...|Colombo Proper|  2019-01-14|2019-01-15|\n",
      "|6.374417842690063E-5|Colombo Proper|  2019-01-15|2019-01-16|\n",
      "|1.181062250815020...|Colombo Proper|  2019-01-16|2019-01-17|\n",
      "|2.472555222423037...|Colombo Proper|  2019-01-17|2019-01-18|\n",
      "|3.667525352047757E-5|Colombo Proper|  2019-01-18|2019-01-19|\n",
      "|4.057500868150313E-4|Colombo Proper|  2019-01-19|2019-01-20|\n",
      "|1.687856216479722...|Colombo Proper|  2019-01-20|2019-01-21|\n",
      "|3.881549328739672...|Colombo Proper|  2019-01-21|2019-01-22|\n",
      "+--------------------+--------------+------------+----------+\n",
      "only showing top 20 rows\n",
      "\n"
     ]
    }
   ],
   "source": [
    "column_name = ['HCHO reading', 'Location', 'Current Date', 'Next Date']\n",
    "\n",
    "# Rename columns using withColumnRenamed()\n",
    "for i, new_name in enumerate(column_name):\n",
    "    data_frame1 = data_frame1.withColumnRenamed(data_frame1.columns[i], new_name)\n",
    "\n",
    "# Display the DataFrame\n",
    "data_frame1.show()"
   ]
  },
  {
   "cell_type": "code",
   "execution_count": 7,
   "metadata": {},
   "outputs": [
    {
     "name": "stdout",
     "output_type": "stream",
     "text": [
      "+------------+--------+------------+---------+\n",
      "|HCHO reading|Location|Current Date|Next Date|\n",
      "+------------+--------+------------+---------+\n",
      "|        2419|       0|           0|        0|\n",
      "+------------+--------+------------+---------+\n",
      "\n"
     ]
    }
   ],
   "source": [
    "from pyspark.sql.functions import col, sum as spark_sum, when\n",
    "columns = data_frame1.columns\n",
    "\n",
    "# Calculate missing values for each column\n",
    "missing_counts = data_frame1.select([spark_sum(when(col(c).isNull(), 1).otherwise(0)).alias(c) for c in columns])\n",
    "\n",
    "# Show missing counts\n",
    "missing_counts.show()"
   ]
  },
  {
   "cell_type": "code",
   "execution_count": 8,
   "metadata": {},
   "outputs": [],
   "source": [
    "# Initialize a counter for null values\n",
    "null_count = data_frame1.filter(col(\"HCHO reading\").isNull()).count()\n",
    "\n",
    "# Continue the process until there are no nulls left\n",
    "while null_count > 0:\n",
    "    # Define the window specifications\n",
    "    backward_windowSpec = Window.orderBy(\"Current Date\")\n",
    "    forward_windowSpec = Window.orderBy(\"Current Date\")\n",
    "    \n",
    "    # Use lag to carry the last observation forward\n",
    "    previous_value = lag(\"HCHO reading\", 1).over(backward_windowSpec)\n",
    "    data_frame1 = data_frame1.withColumn(\"HCHO reading\", coalesce(\"HCHO reading\", previous_value))\n",
    "    \n",
    "    # Use lead to carry the next observation backward\n",
    "    next_value = lead(\"HCHO reading\", 1).over(forward_windowSpec)\n",
    "    data_frame1 = data_frame1.withColumn(\"HCHO reading\", coalesce(\"HCHO reading\", next_value))\n",
    "    \n",
    "    # Update the null count\n",
    "    null_count = data_frame1.filter(col(\"HCHO reading\").isNull()).count()\n"
   ]
  },
  {
   "cell_type": "code",
   "execution_count": 9,
   "metadata": {},
   "outputs": [
    {
     "data": {
      "image/png": "[encoded data removed]",
      "text/plain": [
       "<Figure size 800x600 with 1 Axes>"
      ]
     },
     "metadata": {},
     "output_type": "display_data"
    }
   ],
   "source": [
    "import matplotlib.pyplot as plt\n",
    "\n",
    "# Convert Spark DataFrame to Pandas DataFrame\n",
    "pandas_df1 = data_frame1.toPandas()\n",
    "\n",
    "feature = \"HCHO reading\"\n",
    "\n",
    "# Plot boxplot for the selected feature\n",
    "plt.figure(figsize=(8, 6))\n",
    "pandas_df1.boxplot(column=[feature])\n",
    "plt.title(f'Boxplot of {feature}')\n",
    "plt.ylabel('Values')\n",
    "plt.show()"
   ]
  },
  {
   "cell_type": "code",
   "execution_count": 10,
   "metadata": {},
   "outputs": [
    {
     "name": "stdout",
     "output_type": "stream",
     "text": [
      "Frequency of outliers: 112\n"
     ]
    }
   ],
   "source": [
    "import numpy as np\n",
    "\n",
    "\n",
    "# Extracting the HCHO readings\n",
    "hcho_readings = pandas_df1[feature]\n",
    "\n",
    "# Calculating quartiles and IQR\n",
    "Q1 = hcho_readings.quantile(0.25)\n",
    "Q3 = hcho_readings.quantile(0.75)\n",
    "IQR = Q3 - Q1\n",
    "\n",
    "# Defining outlier thresholds\n",
    "lower_threshold = Q1 - 1.5 * IQR\n",
    "upper_threshold = Q3 + 1.5 * IQR\n",
    "\n",
    "# Counting outliers\n",
    "outliers_frequency = ((hcho_readings < lower_threshold) | (hcho_readings > upper_threshold)).sum()\n",
    "\n",
    "print(\"Frequency of outliers:\", outliers_frequency)\n"
   ]
  },
  {
   "cell_type": "code",
   "execution_count": 11,
   "metadata": {},
   "outputs": [
    {
     "name": "stdout",
     "output_type": "stream",
     "text": [
      "Frequency of outliers after Winsorization: 0\n"
     ]
    }
   ],
   "source": [
    "# Define the Winsorization function\n",
    "def winsorize(series, lower_threshold, upper_threshold):\n",
    "    # Winsorize the series\n",
    "    winsorized_series = series.clip(lower=lower_threshold, upper=upper_threshold)\n",
    "    return winsorized_series\n",
    "\n",
    "# Apply Winsorization to handle outliers\n",
    "pandas_df1[feature] = winsorize(pandas_df1[feature], lower_threshold, upper_threshold)\n",
    "\n",
    "# Recalculate the frequency of outliers after Winsorization\n",
    "outliers_after_winsorization = ((pandas_df1[feature] < lower_threshold) | (pandas_df1[feature] > upper_threshold)).sum()\n",
    "\n",
    "print(\"Frequency of outliers after Winsorization:\", outliers_after_winsorization)\n"
   ]
  },
  {
   "cell_type": "code",
   "execution_count": 12,
   "metadata": {},
   "outputs": [
    {
     "data": {
      "image/png": "[encoded data removed]",
      "text/plain": [
       "<Figure size 800x600 with 1 Axes>"
      ]
     },
     "metadata": {},
     "output_type": "display_data"
    }
   ],
   "source": [
    "# After handling the outlier of data frame 1\n",
    "plt.figure(figsize=(8, 6))\n",
    "pandas_df1.boxplot(column=[feature])\n",
    "plt.title(f'Boxplot of {feature} after Winsorization')\n",
    "plt.ylabel('Values')\n",
    "plt.show()"
   ]
  },
  {
   "cell_type": "code",
   "execution_count": 13,
   "metadata": {},
   "outputs": [],
   "source": [
    "import pandas as pd\n",
    "\n",
    "dates = pandas_df1['Current Date']\n",
    "\n",
    "for date in sorted(dates.unique()):\n",
    "    try:\n",
    "        pd.to_datetime(date)\n",
    "    except ValueError:\n",
    "        print(f\"Invalid date format: {date}\")"
   ]
  },
  {
   "cell_type": "code",
   "execution_count": 14,
   "metadata": {},
   "outputs": [],
   "source": [
    "import pandas as pd\n",
    "\n",
    "dates_2 = pandas_df1['Next Date']\n",
    "\n",
    "for date in sorted(dates_2.unique()):\n",
    "    try:\n",
    "        pd.to_datetime(date)\n",
    "    except ValueError:\n",
    "        print(f\"Invalid date format: {date}\")"
   ]
  },
  {
   "cell_type": "code",
   "execution_count": 15,
   "metadata": {},
   "outputs": [
    {
     "data": {
      "text/html": [
       "<div>\n",
       "<style scoped>\n",
       "    .dataframe tbody tr th:only-of-type {\n",
       "        vertical-align: middle;\n",
       "    }\n",
       "\n",
       "    .dataframe tbody tr th {\n",
       "        vertical-align: top;\n",
       "    }\n",
       "\n",
       "    .dataframe thead th {\n",
       "        text-align: right;\n",
       "    }\n",
       "</style>\n",
       "<table border=\"1\" class=\"dataframe\">\n",
       "  <thead>\n",
       "    <tr style=\"text-align: right;\">\n",
       "      <th></th>\n",
       "      <th>HCHO reading</th>\n",
       "      <th>Location</th>\n",
       "      <th>Current Date</th>\n",
       "      <th>Next Date</th>\n",
       "    </tr>\n",
       "  </thead>\n",
       "  <tbody>\n",
       "    <tr>\n",
       "      <th>0</th>\n",
       "      <td>0.000263</td>\n",
       "      <td>Deniyaya, Matara</td>\n",
       "      <td>2019-01-01</td>\n",
       "      <td>2019-01-02</td>\n",
       "    </tr>\n",
       "    <tr>\n",
       "      <th>1</th>\n",
       "      <td>0.000263</td>\n",
       "      <td>Nuwara Eliya Proper</td>\n",
       "      <td>2019-01-01</td>\n",
       "      <td>2019-01-02</td>\n",
       "    </tr>\n",
       "    <tr>\n",
       "      <th>2</th>\n",
       "      <td>0.000263</td>\n",
       "      <td>Colombo Proper</td>\n",
       "      <td>2019-01-02</td>\n",
       "      <td>2019-01-03</td>\n",
       "    </tr>\n",
       "    <tr>\n",
       "      <th>3</th>\n",
       "      <td>0.000006</td>\n",
       "      <td>Deniyaya, Matara</td>\n",
       "      <td>2019-01-02</td>\n",
       "      <td>2019-01-03</td>\n",
       "    </tr>\n",
       "    <tr>\n",
       "      <th>4</th>\n",
       "      <td>0.000006</td>\n",
       "      <td>Nuwara Eliya Proper</td>\n",
       "      <td>2019-01-02</td>\n",
       "      <td>2019-01-03</td>\n",
       "    </tr>\n",
       "    <tr>\n",
       "      <th>...</th>\n",
       "      <td>...</td>\n",
       "      <td>...</td>\n",
       "      <td>...</td>\n",
       "      <td>...</td>\n",
       "    </tr>\n",
       "    <tr>\n",
       "      <th>5472</th>\n",
       "      <td>0.000116</td>\n",
       "      <td>Deniyaya, Matara</td>\n",
       "      <td>2023-12-30</td>\n",
       "      <td>2023-12-31</td>\n",
       "    </tr>\n",
       "    <tr>\n",
       "      <th>5473</th>\n",
       "      <td>0.000116</td>\n",
       "      <td>Nuwara Eliya Proper</td>\n",
       "      <td>2023-12-30</td>\n",
       "      <td>2023-12-31</td>\n",
       "    </tr>\n",
       "    <tr>\n",
       "      <th>5474</th>\n",
       "      <td>0.000080</td>\n",
       "      <td>Colombo Proper</td>\n",
       "      <td>2023-12-31</td>\n",
       "      <td>2024-01-01</td>\n",
       "    </tr>\n",
       "    <tr>\n",
       "      <th>5475</th>\n",
       "      <td>0.000080</td>\n",
       "      <td>Deniyaya, Matara</td>\n",
       "      <td>2023-12-31</td>\n",
       "      <td>2024-01-01</td>\n",
       "    </tr>\n",
       "    <tr>\n",
       "      <th>5476</th>\n",
       "      <td>0.000080</td>\n",
       "      <td>Nuwara Eliya Proper</td>\n",
       "      <td>2023-12-31</td>\n",
       "      <td>2024-01-01</td>\n",
       "    </tr>\n",
       "  </tbody>\n",
       "</table>\n",
       "<p>5477 rows × 4 columns</p>\n",
       "</div>"
      ],
      "text/plain": [
       "      HCHO reading             Location Current Date   Next Date\n",
       "0         0.000263     Deniyaya, Matara   2019-01-01  2019-01-02\n",
       "1         0.000263  Nuwara Eliya Proper   2019-01-01  2019-01-02\n",
       "2         0.000263       Colombo Proper   2019-01-02  2019-01-03\n",
       "3         0.000006     Deniyaya, Matara   2019-01-02  2019-01-03\n",
       "4         0.000006  Nuwara Eliya Proper   2019-01-02  2019-01-03\n",
       "...            ...                  ...          ...         ...\n",
       "5472      0.000116     Deniyaya, Matara   2023-12-30  2023-12-31\n",
       "5473      0.000116  Nuwara Eliya Proper   2023-12-30  2023-12-31\n",
       "5474      0.000080       Colombo Proper   2023-12-31  2024-01-01\n",
       "5475      0.000080     Deniyaya, Matara   2023-12-31  2024-01-01\n",
       "5476      0.000080  Nuwara Eliya Proper   2023-12-31  2024-01-01\n",
       "\n",
       "[5477 rows x 4 columns]"
      ]
     },
     "execution_count": 15,
     "metadata": {},
     "output_type": "execute_result"
    }
   ],
   "source": [
    "pandas_df1"
   ]
  },
  {
   "cell_type": "code",
   "execution_count": 16,
   "metadata": {},
   "outputs": [
    {
     "name": "stdout",
     "output_type": "stream",
     "text": [
      "root\n",
      " |-- 0.00017607134598773356: double (nullable = true)\n",
      " |-- Kandy Proper: string (nullable = true)\n",
      " |-- 2019-01-01: date (nullable = true)\n",
      " |-- 2019-01-02: date (nullable = true)\n",
      "\n"
     ]
    }
   ],
   "source": [
    "data_frame2 = spark.read.csv(\"Dataset/kan_output.csv\", header=True, inferSchema=True)\n",
    "data_frame2.printSchema()"
   ]
  },
  {
   "cell_type": "code",
   "execution_count": 17,
   "metadata": {},
   "outputs": [
    {
     "name": "stdout",
     "output_type": "stream",
     "text": [
      "+----------------------+------------+----------+----------+\n",
      "|0.00017607134598773356|Kandy Proper|2019-01-01|2019-01-02|\n",
      "+----------------------+------------+----------+----------+\n",
      "|  9.220391253917748E-5|Kandy Proper|2019-01-02|2019-01-03|\n",
      "|                  NULL|Kandy Proper|2019-01-03|2019-01-04|\n",
      "|  1.908681983853839...|Kandy Proper|2019-01-04|2019-01-05|\n",
      "|  1.219517840206744...|Kandy Proper|2019-01-05|2019-01-06|\n",
      "|  -6.51408612938880...|Kandy Proper|2019-01-06|2019-01-07|\n",
      "|    1.6323820639265E-4|Kandy Proper|2019-01-07|2019-01-08|\n",
      "|  -6.73520553391426...|Kandy Proper|2019-01-08|2019-01-09|\n",
      "|  1.279693658243135...|Kandy Proper|2019-01-09|2019-01-10|\n",
      "|  4.546048424126012E-5|Kandy Proper|2019-01-10|2019-01-11|\n",
      "|  3.600074175192105E-5|Kandy Proper|2019-01-11|2019-01-12|\n",
      "|  1.286629698010177E-4|Kandy Proper|2019-01-12|2019-01-13|\n",
      "|                  NULL|Kandy Proper|2019-01-13|2019-01-14|\n",
      "|                  NULL|Kandy Proper|2019-01-14|2019-01-15|\n",
      "|   9.63639634671553E-5|Kandy Proper|2019-01-15|2019-01-16|\n",
      "|                  NULL|Kandy Proper|2019-01-16|2019-01-17|\n",
      "|  1.200971278484736...|Kandy Proper|2019-01-17|2019-01-18|\n",
      "|  -1.19724656713695...|Kandy Proper|2019-01-18|2019-01-19|\n",
      "|  2.825263761529470...|Kandy Proper|2019-01-19|2019-01-20|\n",
      "|  7.150631692646835E-5|Kandy Proper|2019-01-20|2019-01-21|\n",
      "|  2.833741508232604E-4|Kandy Proper|2019-01-21|2019-01-22|\n",
      "+----------------------+------------+----------+----------+\n",
      "only showing top 20 rows\n",
      "\n"
     ]
    }
   ],
   "source": [
    "data_frame2.show()"
   ]
  },
  {
   "cell_type": "code",
   "execution_count": 18,
   "metadata": {},
   "outputs": [
    {
     "name": "stdout",
     "output_type": "stream",
     "text": [
      "+--------------------+------------+------------+----------+\n",
      "|        HCHO reading|    Location|Current Date| Next Date|\n",
      "+--------------------+------------+------------+----------+\n",
      "|9.220391253917748E-5|Kandy Proper|  2019-01-02|2019-01-03|\n",
      "|                NULL|Kandy Proper|  2019-01-03|2019-01-04|\n",
      "|1.908681983853839...|Kandy Proper|  2019-01-04|2019-01-05|\n",
      "|1.219517840206744...|Kandy Proper|  2019-01-05|2019-01-06|\n",
      "|-6.51408612938880...|Kandy Proper|  2019-01-06|2019-01-07|\n",
      "|  1.6323820639265E-4|Kandy Proper|  2019-01-07|2019-01-08|\n",
      "|-6.73520553391426...|Kandy Proper|  2019-01-08|2019-01-09|\n",
      "|1.279693658243135...|Kandy Proper|  2019-01-09|2019-01-10|\n",
      "|4.546048424126012E-5|Kandy Proper|  2019-01-10|2019-01-11|\n",
      "|3.600074175192105E-5|Kandy Proper|  2019-01-11|2019-01-12|\n",
      "|1.286629698010177E-4|Kandy Proper|  2019-01-12|2019-01-13|\n",
      "|                NULL|Kandy Proper|  2019-01-13|2019-01-14|\n",
      "|                NULL|Kandy Proper|  2019-01-14|2019-01-15|\n",
      "| 9.63639634671553E-5|Kandy Proper|  2019-01-15|2019-01-16|\n",
      "|                NULL|Kandy Proper|  2019-01-16|2019-01-17|\n",
      "|1.200971278484736...|Kandy Proper|  2019-01-17|2019-01-18|\n",
      "|-1.19724656713695...|Kandy Proper|  2019-01-18|2019-01-19|\n",
      "|2.825263761529470...|Kandy Proper|  2019-01-19|2019-01-20|\n",
      "|7.150631692646835E-5|Kandy Proper|  2019-01-20|2019-01-21|\n",
      "|2.833741508232604E-4|Kandy Proper|  2019-01-21|2019-01-22|\n",
      "+--------------------+------------+------------+----------+\n",
      "only showing top 20 rows\n",
      "\n"
     ]
    }
   ],
   "source": [
    "column_name = ['HCHO reading', 'Location', 'Current Date', 'Next Date']\n",
    "\n",
    "# Rename columns using withColumnRenamed()\n",
    "for i, new_name in enumerate(column_name):\n",
    "    data_frame2 = data_frame2.withColumnRenamed(data_frame2.columns[i], new_name)\n",
    "\n",
    "# Display the DataFrame\n",
    "data_frame2.show()"
   ]
  },
  {
   "cell_type": "code",
   "execution_count": 19,
   "metadata": {},
   "outputs": [
    {
     "name": "stdout",
     "output_type": "stream",
     "text": [
      "+------------+--------+------------+---------+\n",
      "|HCHO reading|Location|Current Date|Next Date|\n",
      "+------------+--------+------------+---------+\n",
      "|         793|       0|           0|        0|\n",
      "+------------+--------+------------+---------+\n",
      "\n"
     ]
    }
   ],
   "source": [
    "from pyspark.sql.functions import col, sum as spark_sum, when\n",
    "columns = data_frame2.columns\n",
    "\n",
    "# Calculate missing values for each column\n",
    "missing_counts = data_frame2.select([spark_sum(when(col(c).isNull(), 1).otherwise(0)).alias(c) for c in columns])\n",
    "\n",
    "# Show missing counts\n",
    "missing_counts.show()"
   ]
  },
  {
   "cell_type": "code",
   "execution_count": 20,
   "metadata": {},
   "outputs": [],
   "source": [
    "# Initialize a counter for null values\n",
    "null_count = data_frame2.filter(col(\"HCHO reading\").isNull()).count()\n",
    "\n",
    "# Continue the process until there are no nulls left\n",
    "while null_count > 0:\n",
    "    # Define the window specifications\n",
    "    backward_windowSpec = Window.orderBy(\"Current Date\")\n",
    "    forward_windowSpec = Window.orderBy(\"Current Date\")\n",
    "    \n",
    "    # Use lag to carry the last observation forward\n",
    "    previous_value = lag(\"HCHO reading\", 1).over(backward_windowSpec)\n",
    "    data_frame2 = data_frame2.withColumn(\"HCHO reading\", coalesce(\"HCHO reading\", previous_value))\n",
    "    \n",
    "    # Use lead to carry the next observation backward\n",
    "    next_value = lead(\"HCHO reading\", 1).over(forward_windowSpec)\n",
    "    data_frame2 = data_frame2.withColumn(\"HCHO reading\", coalesce(\"HCHO reading\", next_value))\n",
    "    \n",
    "    # Update the null count\n",
    "    null_count = data_frame2.filter(col(\"HCHO reading\").isNull()).count()\n"
   ]
  },
  {
   "cell_type": "code",
   "execution_count": 21,
   "metadata": {},
   "outputs": [
    {
     "data": {
      "image/png": "[encoded data removed]",
      "text/plain": [
       "<Figure size 800x600 with 1 Axes>"
      ]
     },
     "metadata": {},
     "output_type": "display_data"
    }
   ],
   "source": [
    "import matplotlib.pyplot as plt\n",
    "\n",
    "# Convert Spark DataFrame to Pandas DataFrame\n",
    "pandas_df2 = data_frame2.toPandas()\n",
    "\n",
    "feature_2 = \"HCHO reading\"\n",
    "\n",
    "# Plot boxplot for the selected feature\n",
    "plt.figure(figsize=(8, 6))\n",
    "pandas_df2.boxplot(column=[feature_2])\n",
    "plt.title(f'Boxplot of {feature}')\n",
    "plt.ylabel('Values')\n",
    "plt.show()"
   ]
  },
  {
   "cell_type": "code",
   "execution_count": 22,
   "metadata": {},
   "outputs": [
    {
     "name": "stdout",
     "output_type": "stream",
     "text": [
      "Frequency of outliers in feature_2: 43\n"
     ]
    }
   ],
   "source": [
    "hcho_readings_2 = pandas_df2[feature_2]\n",
    "\n",
    "# Calculating quartiles and IQR\n",
    "Q1_2 = hcho_readings_2.quantile(0.25)\n",
    "Q3_2 = hcho_readings_2.quantile(0.75)\n",
    "IQR_2 = Q3_2 - Q1_2\n",
    "\n",
    "# Defining outlier thresholds\n",
    "lower_threshold_2 = Q1_2 - 1.5 * IQR_2\n",
    "upper_threshold_2 = Q3_2 + 1.5 * IQR_2\n",
    "\n",
    "# Counting outliers\n",
    "outliers_frequency_2 = ((hcho_readings_2 < lower_threshold_2) | (hcho_readings_2 > upper_threshold_2)).sum()\n",
    "\n",
    "print(\"Frequency of outliers in feature_2:\", outliers_frequency_2)"
   ]
  },
  {
   "cell_type": "code",
   "execution_count": 23,
   "metadata": {},
   "outputs": [
    {
     "name": "stdout",
     "output_type": "stream",
     "text": [
      "Frequency of outliers after Winsorization in feature_2: 0\n"
     ]
    }
   ],
   "source": [
    "# Define the Winsorization function\n",
    "def winsorize(series, lower_threshold, upper_threshold):\n",
    "    # Winsorize the series\n",
    "    winsorized_series = series.clip(lower=lower_threshold, upper=upper_threshold)\n",
    "    return winsorized_series\n",
    "\n",
    "# Apply Winsorization to handle outliers\n",
    "pandas_df2[feature_2] = winsorize(pandas_df2[feature_2], lower_threshold_2, upper_threshold_2)\n",
    "\n",
    "# Recalculate the frequency of outliers after Winsorization\n",
    "outliers_after_winsorization_2 = ((pandas_df2[feature_2] < lower_threshold_2) | (pandas_df2[feature_2] > upper_threshold_2)).sum()\n",
    "\n",
    "print(\"Frequency of outliers after Winsorization in feature_2:\", outliers_after_winsorization_2)\n"
   ]
  },
  {
   "cell_type": "code",
   "execution_count": 24,
   "metadata": {},
   "outputs": [
    {
     "data": {
      "image/png": "[encoded data removed]",
      "text/plain": [
       "<Figure size 800x600 with 1 Axes>"
      ]
     },
     "metadata": {},
     "output_type": "display_data"
    }
   ],
   "source": [
    "# After handling the outlier of data frame 2 \n",
    "feature_2 = \"HCHO reading\"\n",
    "\n",
    "# Plot boxplot for the selected feature\n",
    "plt.figure(figsize=(8, 6))\n",
    "pandas_df2.boxplot(column=[feature_2])\n",
    "plt.title(f'Boxplot of {feature}')\n",
    "plt.ylabel('Values')\n",
    "plt.show()"
   ]
  },
  {
   "cell_type": "code",
   "execution_count": 25,
   "metadata": {},
   "outputs": [],
   "source": [
    "import pandas as pd\n",
    "\n",
    "dates = pandas_df2['Next Date']\n",
    "\n",
    "for date in sorted(dates.unique()):\n",
    "    try:\n",
    "        pd.to_datetime(date)\n",
    "    except ValueError:\n",
    "        print(f\"Invalid date format: {date}\")"
   ]
  },
  {
   "cell_type": "code",
   "execution_count": 26,
   "metadata": {},
   "outputs": [],
   "source": [
    "import pandas as pd\n",
    "\n",
    "dates = pandas_df2['Current Date']\n",
    "\n",
    "for date in sorted(dates.unique()):\n",
    "    try:\n",
    "        pd.to_datetime(date)\n",
    "    except ValueError:\n",
    "        print(f\"Invalid date format: {date}\")"
   ]
  },
  {
   "cell_type": "code",
   "execution_count": 27,
   "metadata": {},
   "outputs": [
    {
     "data": {
      "text/html": [
       "<div>\n",
       "<style scoped>\n",
       "    .dataframe tbody tr th:only-of-type {\n",
       "        vertical-align: middle;\n",
       "    }\n",
       "\n",
       "    .dataframe tbody tr th {\n",
       "        vertical-align: top;\n",
       "    }\n",
       "\n",
       "    .dataframe thead th {\n",
       "        text-align: right;\n",
       "    }\n",
       "</style>\n",
       "<table border=\"1\" class=\"dataframe\">\n",
       "  <thead>\n",
       "    <tr style=\"text-align: right;\">\n",
       "      <th></th>\n",
       "      <th>HCHO reading</th>\n",
       "      <th>Location</th>\n",
       "      <th>Current Date</th>\n",
       "      <th>Next Date</th>\n",
       "    </tr>\n",
       "  </thead>\n",
       "  <tbody>\n",
       "    <tr>\n",
       "      <th>0</th>\n",
       "      <td>0.000092</td>\n",
       "      <td>Kandy Proper</td>\n",
       "      <td>2019-01-02</td>\n",
       "      <td>2019-01-03</td>\n",
       "    </tr>\n",
       "    <tr>\n",
       "      <th>1</th>\n",
       "      <td>0.000092</td>\n",
       "      <td>Kandy Proper</td>\n",
       "      <td>2019-01-03</td>\n",
       "      <td>2019-01-04</td>\n",
       "    </tr>\n",
       "    <tr>\n",
       "      <th>2</th>\n",
       "      <td>0.000191</td>\n",
       "      <td>Kandy Proper</td>\n",
       "      <td>2019-01-04</td>\n",
       "      <td>2019-01-05</td>\n",
       "    </tr>\n",
       "    <tr>\n",
       "      <th>3</th>\n",
       "      <td>0.000122</td>\n",
       "      <td>Kandy Proper</td>\n",
       "      <td>2019-01-05</td>\n",
       "      <td>2019-01-06</td>\n",
       "    </tr>\n",
       "    <tr>\n",
       "      <th>4</th>\n",
       "      <td>-0.000065</td>\n",
       "      <td>Kandy Proper</td>\n",
       "      <td>2019-01-06</td>\n",
       "      <td>2019-01-07</td>\n",
       "    </tr>\n",
       "    <tr>\n",
       "      <th>...</th>\n",
       "      <td>...</td>\n",
       "      <td>...</td>\n",
       "      <td>...</td>\n",
       "      <td>...</td>\n",
       "    </tr>\n",
       "    <tr>\n",
       "      <th>1820</th>\n",
       "      <td>0.000056</td>\n",
       "      <td>Kandy Proper</td>\n",
       "      <td>2023-12-27</td>\n",
       "      <td>2023-12-28</td>\n",
       "    </tr>\n",
       "    <tr>\n",
       "      <th>1821</th>\n",
       "      <td>0.000056</td>\n",
       "      <td>Kandy Proper</td>\n",
       "      <td>2023-12-28</td>\n",
       "      <td>2023-12-29</td>\n",
       "    </tr>\n",
       "    <tr>\n",
       "      <th>1822</th>\n",
       "      <td>0.000056</td>\n",
       "      <td>Kandy Proper</td>\n",
       "      <td>2023-12-29</td>\n",
       "      <td>2023-12-30</td>\n",
       "    </tr>\n",
       "    <tr>\n",
       "      <th>1823</th>\n",
       "      <td>0.000056</td>\n",
       "      <td>Kandy Proper</td>\n",
       "      <td>2023-12-30</td>\n",
       "      <td>2023-12-31</td>\n",
       "    </tr>\n",
       "    <tr>\n",
       "      <th>1824</th>\n",
       "      <td>0.000056</td>\n",
       "      <td>Kandy Proper</td>\n",
       "      <td>2023-12-31</td>\n",
       "      <td>2024-01-01</td>\n",
       "    </tr>\n",
       "  </tbody>\n",
       "</table>\n",
       "<p>1825 rows × 4 columns</p>\n",
       "</div>"
      ],
      "text/plain": [
       "      HCHO reading      Location Current Date   Next Date\n",
       "0         0.000092  Kandy Proper   2019-01-02  2019-01-03\n",
       "1         0.000092  Kandy Proper   2019-01-03  2019-01-04\n",
       "2         0.000191  Kandy Proper   2019-01-04  2019-01-05\n",
       "3         0.000122  Kandy Proper   2019-01-05  2019-01-06\n",
       "4        -0.000065  Kandy Proper   2019-01-06  2019-01-07\n",
       "...            ...           ...          ...         ...\n",
       "1820      0.000056  Kandy Proper   2023-12-27  2023-12-28\n",
       "1821      0.000056  Kandy Proper   2023-12-28  2023-12-29\n",
       "1822      0.000056  Kandy Proper   2023-12-29  2023-12-30\n",
       "1823      0.000056  Kandy Proper   2023-12-30  2023-12-31\n",
       "1824      0.000056  Kandy Proper   2023-12-31  2024-01-01\n",
       "\n",
       "[1825 rows x 4 columns]"
      ]
     },
     "execution_count": 27,
     "metadata": {},
     "output_type": "execute_result"
    }
   ],
   "source": [
    "pandas_df2"
   ]
  },
  {
   "cell_type": "code",
   "execution_count": 28,
   "metadata": {},
   "outputs": [
    {
     "name": "stdout",
     "output_type": "stream",
     "text": [
      "root\n",
      " |-- _c0: double (nullable = true)\n",
      " |-- Bibile, Monaragala: string (nullable = true)\n",
      " |-- 2019-01-01: date (nullable = true)\n",
      " |-- 2019-01-02: date (nullable = true)\n",
      "\n"
     ]
    }
   ],
   "source": [
    "data_frame3 = spark.read.csv(\"Dataset/mon_kur_jaf_output.csv\", header=True, inferSchema=True)\n",
    "data_frame3.printSchema()"
   ]
  },
  {
   "cell_type": "code",
   "execution_count": 29,
   "metadata": {},
   "outputs": [
    {
     "name": "stdout",
     "output_type": "stream",
     "text": [
      "+--------------------+------------------+----------+----------+\n",
      "|                 _c0|Bibile, Monaragala|2019-01-01|2019-01-02|\n",
      "+--------------------+------------------+----------+----------+\n",
      "|1.919914652467399E-5|Bibile, Monaragala|2019-01-02|2019-01-03|\n",
      "|2.811447935930283...|Bibile, Monaragala|2019-01-03|2019-01-04|\n",
      "|3.747998184385943E-5|Bibile, Monaragala|2019-01-04|2019-01-05|\n",
      "|-1.79826087934531...|Bibile, Monaragala|2019-01-05|2019-01-06|\n",
      "|1.457836896179902...|Bibile, Monaragala|2019-01-06|2019-01-07|\n",
      "|2.828590802546534...|Bibile, Monaragala|2019-01-07|2019-01-08|\n",
      "|                NULL|Bibile, Monaragala|2019-01-08|2019-01-09|\n",
      "|1.420850167050957...|Bibile, Monaragala|2019-01-09|2019-01-10|\n",
      "|                NULL|Bibile, Monaragala|2019-01-10|2019-01-11|\n",
      "|2.014587947072581E-5|Bibile, Monaragala|2019-01-11|2019-01-12|\n",
      "|1.582787663210183...|Bibile, Monaragala|2019-01-12|2019-01-13|\n",
      "|                NULL|Bibile, Monaragala|2019-01-13|2019-01-14|\n",
      "|                NULL|Bibile, Monaragala|2019-01-14|2019-01-15|\n",
      "|9.952823849642218E-5|Bibile, Monaragala|2019-01-15|2019-01-16|\n",
      "|7.484570960514249E-5|Bibile, Monaragala|2019-01-16|2019-01-17|\n",
      "|7.736112226328797E-5|Bibile, Monaragala|2019-01-17|2019-01-18|\n",
      "|                NULL|Bibile, Monaragala|2019-01-18|2019-01-19|\n",
      "|3.988141010407665...|Bibile, Monaragala|2019-01-19|2019-01-20|\n",
      "|1.891620203853342...|Bibile, Monaragala|2019-01-20|2019-01-21|\n",
      "|1.159969926423745...|Bibile, Monaragala|2019-01-21|2019-01-22|\n",
      "+--------------------+------------------+----------+----------+\n",
      "only showing top 20 rows\n",
      "\n"
     ]
    }
   ],
   "source": [
    "data_frame3.show()"
   ]
  },
  {
   "cell_type": "code",
   "execution_count": 30,
   "metadata": {},
   "outputs": [
    {
     "name": "stdout",
     "output_type": "stream",
     "text": [
      "+--------------------+------------------+------------+----------+\n",
      "|        HCHO reading|          Location|Current Date| Next Date|\n",
      "+--------------------+------------------+------------+----------+\n",
      "|1.919914652467399E-5|Bibile, Monaragala|  2019-01-02|2019-01-03|\n",
      "|2.811447935930283...|Bibile, Monaragala|  2019-01-03|2019-01-04|\n",
      "|3.747998184385943E-5|Bibile, Monaragala|  2019-01-04|2019-01-05|\n",
      "|-1.79826087934531...|Bibile, Monaragala|  2019-01-05|2019-01-06|\n",
      "|1.457836896179902...|Bibile, Monaragala|  2019-01-06|2019-01-07|\n",
      "|2.828590802546534...|Bibile, Monaragala|  2019-01-07|2019-01-08|\n",
      "|                NULL|Bibile, Monaragala|  2019-01-08|2019-01-09|\n",
      "|1.420850167050957...|Bibile, Monaragala|  2019-01-09|2019-01-10|\n",
      "|                NULL|Bibile, Monaragala|  2019-01-10|2019-01-11|\n",
      "|2.014587947072581E-5|Bibile, Monaragala|  2019-01-11|2019-01-12|\n",
      "|1.582787663210183...|Bibile, Monaragala|  2019-01-12|2019-01-13|\n",
      "|                NULL|Bibile, Monaragala|  2019-01-13|2019-01-14|\n",
      "|                NULL|Bibile, Monaragala|  2019-01-14|2019-01-15|\n",
      "|9.952823849642218E-5|Bibile, Monaragala|  2019-01-15|2019-01-16|\n",
      "|7.484570960514249E-5|Bibile, Monaragala|  2019-01-16|2019-01-17|\n",
      "|7.736112226328797E-5|Bibile, Monaragala|  2019-01-17|2019-01-18|\n",
      "|                NULL|Bibile, Monaragala|  2019-01-18|2019-01-19|\n",
      "|3.988141010407665...|Bibile, Monaragala|  2019-01-19|2019-01-20|\n",
      "|1.891620203853342...|Bibile, Monaragala|  2019-01-20|2019-01-21|\n",
      "|1.159969926423745...|Bibile, Monaragala|  2019-01-21|2019-01-22|\n",
      "+--------------------+------------------+------------+----------+\n",
      "only showing top 20 rows\n",
      "\n"
     ]
    }
   ],
   "source": [
    "column_name = ['HCHO reading', 'Location', 'Current Date', 'Next Date']\n",
    "\n",
    "# Rename columns using withColumnRenamed()\n",
    "for i, new_name in enumerate(column_name):\n",
    "    data_frame3 = data_frame3.withColumnRenamed(data_frame3.columns[i], new_name)\n",
    "\n",
    "# Display the DataFrame\n",
    "data_frame3.show()"
   ]
  },
  {
   "cell_type": "code",
   "execution_count": 31,
   "metadata": {},
   "outputs": [
    {
     "name": "stdout",
     "output_type": "stream",
     "text": [
      "+------------+--------+------------+---------+\n",
      "|HCHO reading|Location|Current Date|Next Date|\n",
      "+------------+--------+------------+---------+\n",
      "|        1651|       0|           0|        0|\n",
      "+------------+--------+------------+---------+\n",
      "\n"
     ]
    }
   ],
   "source": [
    "from pyspark.sql.functions import col, sum as spark_sum, when\n",
    "columns = data_frame3.columns\n",
    "\n",
    "# Calculate missing values for each column\n",
    "missing_counts = data_frame3.select([spark_sum(when(col(c).isNull(), 1).otherwise(0)).alias(c) for c in columns])\n",
    "\n",
    "# Show missing counts\n",
    "missing_counts.show()"
   ]
  },
  {
   "cell_type": "code",
   "execution_count": 32,
   "metadata": {},
   "outputs": [],
   "source": [
    "# Initialize a counter for null values\n",
    "null_count = data_frame3.filter(col(\"HCHO reading\").isNull()).count()\n",
    "\n",
    "# Continue the process until there are no nulls left\n",
    "while null_count > 0:\n",
    "    # Define the window specifications\n",
    "    backward_windowSpec = Window.orderBy(\"Current Date\")\n",
    "    forward_windowSpec = Window.orderBy(\"Current Date\")\n",
    "    \n",
    "    # Use lag to carry the last observation forward\n",
    "    previous_value = lag(\"HCHO reading\", 1).over(backward_windowSpec)\n",
    "    data_frame3 = data_frame3.withColumn(\"HCHO reading\", coalesce(\"HCHO reading\", previous_value))\n",
    "    \n",
    "    # Use lead to carry the next observation backward\n",
    "    next_value = lead(\"HCHO reading\", 1).over(forward_windowSpec)\n",
    "    data_frame3 = data_frame3.withColumn(\"HCHO reading\", coalesce(\"HCHO reading\", next_value))\n",
    "    \n",
    "    # Update the null count\n",
    "    null_count = data_frame3.filter(col(\"HCHO reading\").isNull()).count()\n"
   ]
  },
  {
   "cell_type": "code",
   "execution_count": 33,
   "metadata": {},
   "outputs": [
    {
     "data": {
      "image/png": "[encoded data removed]",
      "text/plain": [
       "<Figure size 800x600 with 1 Axes>"
      ]
     },
     "metadata": {},
     "output_type": "display_data"
    }
   ],
   "source": [
    "import matplotlib.pyplot as plt\n",
    "\n",
    "# Convert Spark DataFrame to Pandas DataFrame\n",
    "pandas_df3 = data_frame3.toPandas()\n",
    "\n",
    "feature_3 = \"HCHO reading\"\n",
    "\n",
    "# Plot boxplot for the selected feature\n",
    "plt.figure(figsize=(8, 6))\n",
    "pandas_df3.boxplot(column=[feature_3])\n",
    "plt.title(f'Boxplot of {feature}')\n",
    "plt.ylabel('Values')\n",
    "plt.show()"
   ]
  },
  {
   "cell_type": "code",
   "execution_count": 34,
   "metadata": {},
   "outputs": [
    {
     "name": "stdout",
     "output_type": "stream",
     "text": [
      "Frequency of outliers in feature_3: 179\n"
     ]
    }
   ],
   "source": [
    "# Extracting the HCHO readings from pandas_df_3\n",
    "hcho_readings_3 = pandas_df3[feature_3]\n",
    "\n",
    "# Calculating quartiles and IQR\n",
    "Q1_3 = hcho_readings_3.quantile(0.25)\n",
    "Q3_3 = hcho_readings_3.quantile(0.75)\n",
    "IQR_3 = Q3_3 - Q1_3\n",
    "\n",
    "# Defining outlier thresholds\n",
    "lower_threshold_3 = Q1_3 - 1.5 * IQR_3\n",
    "upper_threshold_3 = Q3_3 + 1.5 * IQR_3\n",
    "\n",
    "# Counting outliers\n",
    "outliers_frequency_3 = ((hcho_readings_3 < lower_threshold_3) | (hcho_readings_3 > upper_threshold_3)).sum()\n",
    "\n",
    "print(\"Frequency of outliers in feature_3:\", outliers_frequency_3)"
   ]
  },
  {
   "cell_type": "code",
   "execution_count": 35,
   "metadata": {},
   "outputs": [
    {
     "name": "stdout",
     "output_type": "stream",
     "text": [
      "Frequency of outliers after Winsorization in feature_3: 0\n"
     ]
    }
   ],
   "source": [
    "# Define the Winsorization function\n",
    "def winsorize(series, lower_threshold, upper_threshold):\n",
    "    # Winsorize the series\n",
    "    winsorized_series = series.clip(lower=lower_threshold, upper=upper_threshold)\n",
    "    return winsorized_series\n",
    "\n",
    "# Apply Winsorization to handle outliers\n",
    "pandas_df3[feature_3] = winsorize(pandas_df3[feature_3], lower_threshold_3, upper_threshold_3)\n",
    "\n",
    "# Recalculate the frequency of outliers after Winsorization\n",
    "outliers_after_winsorization_3 = ((pandas_df3[feature_3] < lower_threshold_3) | (pandas_df3[feature_3] > upper_threshold_3)).sum()\n",
    "\n",
    "print(\"Frequency of outliers after Winsorization in feature_3:\", outliers_after_winsorization_3)\n"
   ]
  },
  {
   "cell_type": "code",
   "execution_count": 36,
   "metadata": {},
   "outputs": [
    {
     "data": {
      "image/png": "[encoded data removed]",
      "text/plain": [
       "<Figure size 800x600 with 1 Axes>"
      ]
     },
     "metadata": {},
     "output_type": "display_data"
    }
   ],
   "source": [
    "# After handling the outlier of data frame 3\n",
    "import matplotlib.pyplot as plt\n",
    "\n",
    "feature_3 = \"HCHO reading\"\n",
    "\n",
    "# Plot boxplot for the selected feature\n",
    "plt.figure(figsize=(8, 6))\n",
    "pandas_df3.boxplot(column=[feature_3])\n",
    "plt.title(f'Boxplot of {feature}')\n",
    "plt.ylabel('Values')\n",
    "plt.show()"
   ]
  },
  {
   "cell_type": "code",
   "execution_count": 37,
   "metadata": {},
   "outputs": [],
   "source": [
    "import pandas as pd\n",
    "\n",
    "dates = pandas_df3['Current Date']\n",
    "\n",
    "for date in sorted(dates.unique()):\n",
    "    try:\n",
    "        pd.to_datetime(date)\n",
    "    except ValueError:\n",
    "        print(f\"Invalid date format: {date}\")"
   ]
  },
  {
   "cell_type": "code",
   "execution_count": 38,
   "metadata": {},
   "outputs": [],
   "source": [
    "import pandas as pd\n",
    "\n",
    "dates = pandas_df3['Next Date']\n",
    "\n",
    "for date in sorted(dates.unique()):\n",
    "    try:\n",
    "        pd.to_datetime(date)\n",
    "    except ValueError:\n",
    "        print(f\"Invalid date format: {date}\")"
   ]
  },
  {
   "cell_type": "code",
   "execution_count": 39,
   "metadata": {},
   "outputs": [
    {
     "data": {
      "text/html": [
       "<div>\n",
       "<style scoped>\n",
       "    .dataframe tbody tr th:only-of-type {\n",
       "        vertical-align: middle;\n",
       "    }\n",
       "\n",
       "    .dataframe tbody tr th {\n",
       "        vertical-align: top;\n",
       "    }\n",
       "\n",
       "    .dataframe thead th {\n",
       "        text-align: right;\n",
       "    }\n",
       "</style>\n",
       "<table border=\"1\" class=\"dataframe\">\n",
       "  <thead>\n",
       "    <tr style=\"text-align: right;\">\n",
       "      <th></th>\n",
       "      <th>HCHO reading</th>\n",
       "      <th>Location</th>\n",
       "      <th>Current Date</th>\n",
       "      <th>Next Date</th>\n",
       "    </tr>\n",
       "  </thead>\n",
       "  <tbody>\n",
       "    <tr>\n",
       "      <th>0</th>\n",
       "      <td>0.000088</td>\n",
       "      <td>Kurunegala Proper</td>\n",
       "      <td>2019-01-01</td>\n",
       "      <td>2019-01-02</td>\n",
       "    </tr>\n",
       "    <tr>\n",
       "      <th>1</th>\n",
       "      <td>0.000058</td>\n",
       "      <td>Jaffna Proper</td>\n",
       "      <td>2019-01-01</td>\n",
       "      <td>2019-01-02</td>\n",
       "    </tr>\n",
       "    <tr>\n",
       "      <th>2</th>\n",
       "      <td>0.000019</td>\n",
       "      <td>Bibile, Monaragala</td>\n",
       "      <td>2019-01-02</td>\n",
       "      <td>2019-01-03</td>\n",
       "    </tr>\n",
       "    <tr>\n",
       "      <th>3</th>\n",
       "      <td>0.000137</td>\n",
       "      <td>Kurunegala Proper</td>\n",
       "      <td>2019-01-02</td>\n",
       "      <td>2019-01-03</td>\n",
       "    </tr>\n",
       "    <tr>\n",
       "      <th>4</th>\n",
       "      <td>0.000102</td>\n",
       "      <td>Jaffna Proper</td>\n",
       "      <td>2019-01-02</td>\n",
       "      <td>2019-01-03</td>\n",
       "    </tr>\n",
       "    <tr>\n",
       "      <th>...</th>\n",
       "      <td>...</td>\n",
       "      <td>...</td>\n",
       "      <td>...</td>\n",
       "      <td>...</td>\n",
       "    </tr>\n",
       "    <tr>\n",
       "      <th>5472</th>\n",
       "      <td>0.000158</td>\n",
       "      <td>Kurunegala Proper</td>\n",
       "      <td>2023-12-30</td>\n",
       "      <td>2023-12-31</td>\n",
       "    </tr>\n",
       "    <tr>\n",
       "      <th>5473</th>\n",
       "      <td>0.000117</td>\n",
       "      <td>Jaffna Proper</td>\n",
       "      <td>2023-12-30</td>\n",
       "      <td>2023-12-31</td>\n",
       "    </tr>\n",
       "    <tr>\n",
       "      <th>5474</th>\n",
       "      <td>0.000117</td>\n",
       "      <td>Bibile, Monaragala</td>\n",
       "      <td>2023-12-31</td>\n",
       "      <td>2024-01-01</td>\n",
       "    </tr>\n",
       "    <tr>\n",
       "      <th>5475</th>\n",
       "      <td>0.000065</td>\n",
       "      <td>Kurunegala Proper</td>\n",
       "      <td>2023-12-31</td>\n",
       "      <td>2024-01-01</td>\n",
       "    </tr>\n",
       "    <tr>\n",
       "      <th>5476</th>\n",
       "      <td>0.000065</td>\n",
       "      <td>Jaffna Proper</td>\n",
       "      <td>2023-12-31</td>\n",
       "      <td>2024-01-01</td>\n",
       "    </tr>\n",
       "  </tbody>\n",
       "</table>\n",
       "<p>5477 rows × 4 columns</p>\n",
       "</div>"
      ],
      "text/plain": [
       "      HCHO reading            Location Current Date   Next Date\n",
       "0         0.000088   Kurunegala Proper   2019-01-01  2019-01-02\n",
       "1         0.000058       Jaffna Proper   2019-01-01  2019-01-02\n",
       "2         0.000019  Bibile, Monaragala   2019-01-02  2019-01-03\n",
       "3         0.000137   Kurunegala Proper   2019-01-02  2019-01-03\n",
       "4         0.000102       Jaffna Proper   2019-01-02  2019-01-03\n",
       "...            ...                 ...          ...         ...\n",
       "5472      0.000158   Kurunegala Proper   2023-12-30  2023-12-31\n",
       "5473      0.000117       Jaffna Proper   2023-12-30  2023-12-31\n",
       "5474      0.000117  Bibile, Monaragala   2023-12-31  2024-01-01\n",
       "5475      0.000065   Kurunegala Proper   2023-12-31  2024-01-01\n",
       "5476      0.000065       Jaffna Proper   2023-12-31  2024-01-01\n",
       "\n",
       "[5477 rows x 4 columns]"
      ]
     },
     "execution_count": 39,
     "metadata": {},
     "output_type": "execute_result"
    }
   ],
   "source": [
    "pandas_df3"
   ]
  },
  {
   "cell_type": "code",
   "execution_count": 40,
   "metadata": {},
   "outputs": [
    {
     "name": "stdout",
     "output_type": "stream",
     "text": [
      "       HCHO reading             Location Current Date   Next Date\n",
      "0          0.000263     Deniyaya, Matara   2019-01-01  2019-01-02\n",
      "1          0.000263  Nuwara Eliya Proper   2019-01-01  2019-01-02\n",
      "2          0.000263       Colombo Proper   2019-01-02  2019-01-03\n",
      "3          0.000006     Deniyaya, Matara   2019-01-02  2019-01-03\n",
      "4          0.000006  Nuwara Eliya Proper   2019-01-02  2019-01-03\n",
      "...             ...                  ...          ...         ...\n",
      "12774      0.000158    Kurunegala Proper   2023-12-30  2023-12-31\n",
      "12775      0.000117        Jaffna Proper   2023-12-30  2023-12-31\n",
      "12776      0.000117   Bibile, Monaragala   2023-12-31  2024-01-01\n",
      "12777      0.000065    Kurunegala Proper   2023-12-31  2024-01-01\n",
      "12778      0.000065        Jaffna Proper   2023-12-31  2024-01-01\n",
      "\n",
      "[12779 rows x 4 columns]\n"
     ]
    }
   ],
   "source": [
    "# Concatenate DataFrames vertically\n",
    "concat_df = pd.concat([pandas_df1, pandas_df2, pandas_df3], axis=0)\n",
    "\n",
    "# Resetting index if needed\n",
    "concat_df.reset_index(drop=True, inplace=True)\n",
    "\n",
    "print(concat_df)"
   ]
  },
  {
   "cell_type": "code",
   "execution_count": 41,
   "metadata": {},
   "outputs": [
    {
     "name": "stdout",
     "output_type": "stream",
     "text": [
      "HCHO reading    0\n",
      "Location        0\n",
      "Current Date    0\n",
      "Next Date       0\n",
      "dtype: int64\n"
     ]
    }
   ],
   "source": [
    "# Check for null values in each column of the Pandas DataFrame\n",
    "print(concat_df.isnull().sum())"
   ]
  },
  {
   "cell_type": "code",
   "execution_count": 42,
   "metadata": {},
   "outputs": [
    {
     "data": {
      "image/png": "[encoded data removed]",
      "text/plain": [
       "<Figure size 640x480 with 1 Axes>"
      ]
     },
     "metadata": {},
     "output_type": "display_data"
    }
   ],
   "source": [
    "import matplotlib.pyplot as plt\n",
    "\n",
    "# Plot the histogram\n",
    "plt.hist(concat_df['HCHO reading'], bins=20, color='skyblue', edgecolor='black')\n",
    "\n",
    "# Add labels and title\n",
    "plt.xlabel('HCHO Reading')\n",
    "plt.ylabel('Frequency')\n",
    "plt.title('Histogram of HCHO Reading')\n",
    "\n",
    "# Show the plot\n",
    "plt.show()"
   ]
  },
  {
   "cell_type": "code",
   "execution_count": 43,
   "metadata": {},
   "outputs": [
    {
     "data": {
      "text/html": [
       "<div>\n",
       "<style scoped>\n",
       "    .dataframe tbody tr th:only-of-type {\n",
       "        vertical-align: middle;\n",
       "    }\n",
       "\n",
       "    .dataframe tbody tr th {\n",
       "        vertical-align: top;\n",
       "    }\n",
       "\n",
       "    .dataframe thead th {\n",
       "        text-align: right;\n",
       "    }\n",
       "</style>\n",
       "<table border=\"1\" class=\"dataframe\">\n",
       "  <thead>\n",
       "    <tr style=\"text-align: right;\">\n",
       "      <th></th>\n",
       "      <th>HCHO reading</th>\n",
       "      <th>Location</th>\n",
       "      <th>Current Date</th>\n",
       "      <th>Next Date</th>\n",
       "    </tr>\n",
       "  </thead>\n",
       "  <tbody>\n",
       "    <tr>\n",
       "      <th>0</th>\n",
       "      <td>0.000263</td>\n",
       "      <td>Deniyaya, Matara</td>\n",
       "      <td>2019-01-01</td>\n",
       "      <td>2019-01-02</td>\n",
       "    </tr>\n",
       "    <tr>\n",
       "      <th>1</th>\n",
       "      <td>0.000263</td>\n",
       "      <td>Nuwara Eliya Proper</td>\n",
       "      <td>2019-01-01</td>\n",
       "      <td>2019-01-02</td>\n",
       "    </tr>\n",
       "    <tr>\n",
       "      <th>2</th>\n",
       "      <td>0.000263</td>\n",
       "      <td>Colombo Proper</td>\n",
       "      <td>2019-01-02</td>\n",
       "      <td>2019-01-03</td>\n",
       "    </tr>\n",
       "    <tr>\n",
       "      <th>3</th>\n",
       "      <td>0.000006</td>\n",
       "      <td>Deniyaya, Matara</td>\n",
       "      <td>2019-01-02</td>\n",
       "      <td>2019-01-03</td>\n",
       "    </tr>\n",
       "    <tr>\n",
       "      <th>4</th>\n",
       "      <td>0.000006</td>\n",
       "      <td>Nuwara Eliya Proper</td>\n",
       "      <td>2019-01-02</td>\n",
       "      <td>2019-01-03</td>\n",
       "    </tr>\n",
       "    <tr>\n",
       "      <th>...</th>\n",
       "      <td>...</td>\n",
       "      <td>...</td>\n",
       "      <td>...</td>\n",
       "      <td>...</td>\n",
       "    </tr>\n",
       "    <tr>\n",
       "      <th>12774</th>\n",
       "      <td>0.000158</td>\n",
       "      <td>Kurunegala Proper</td>\n",
       "      <td>2023-12-30</td>\n",
       "      <td>2023-12-31</td>\n",
       "    </tr>\n",
       "    <tr>\n",
       "      <th>12775</th>\n",
       "      <td>0.000117</td>\n",
       "      <td>Jaffna Proper</td>\n",
       "      <td>2023-12-30</td>\n",
       "      <td>2023-12-31</td>\n",
       "    </tr>\n",
       "    <tr>\n",
       "      <th>12776</th>\n",
       "      <td>0.000117</td>\n",
       "      <td>Bibile, Monaragala</td>\n",
       "      <td>2023-12-31</td>\n",
       "      <td>2024-01-01</td>\n",
       "    </tr>\n",
       "    <tr>\n",
       "      <th>12777</th>\n",
       "      <td>0.000065</td>\n",
       "      <td>Kurunegala Proper</td>\n",
       "      <td>2023-12-31</td>\n",
       "      <td>2024-01-01</td>\n",
       "    </tr>\n",
       "    <tr>\n",
       "      <th>12778</th>\n",
       "      <td>0.000065</td>\n",
       "      <td>Jaffna Proper</td>\n",
       "      <td>2023-12-31</td>\n",
       "      <td>2024-01-01</td>\n",
       "    </tr>\n",
       "  </tbody>\n",
       "</table>\n",
       "<p>12779 rows × 4 columns</p>\n",
       "</div>"
      ],
      "text/plain": [
       "       HCHO reading             Location Current Date   Next Date\n",
       "0          0.000263     Deniyaya, Matara   2019-01-01  2019-01-02\n",
       "1          0.000263  Nuwara Eliya Proper   2019-01-01  2019-01-02\n",
       "2          0.000263       Colombo Proper   2019-01-02  2019-01-03\n",
       "3          0.000006     Deniyaya, Matara   2019-01-02  2019-01-03\n",
       "4          0.000006  Nuwara Eliya Proper   2019-01-02  2019-01-03\n",
       "...             ...                  ...          ...         ...\n",
       "12774      0.000158    Kurunegala Proper   2023-12-30  2023-12-31\n",
       "12775      0.000117        Jaffna Proper   2023-12-30  2023-12-31\n",
       "12776      0.000117   Bibile, Monaragala   2023-12-31  2024-01-01\n",
       "12777      0.000065    Kurunegala Proper   2023-12-31  2024-01-01\n",
       "12778      0.000065        Jaffna Proper   2023-12-31  2024-01-01\n",
       "\n",
       "[12779 rows x 4 columns]"
      ]
     },
     "execution_count": 43,
     "metadata": {},
     "output_type": "execute_result"
    }
   ],
   "source": [
    "concat_df"
   ]
  },
  {
   "cell_type": "code",
   "execution_count": 44,
   "metadata": {},
   "outputs": [],
   "source": [
    "# Path that i want to save \n",
    "save_path = \"Dataset/Concat_dataframe.csv\"\n",
    "# Save the pandas df to csv\n",
    "concat_df.to_csv(save_path, index=False)"
   ]
  },
  {
   "cell_type": "markdown",
   "metadata": {},
   "source": []
  }
 ],
 "metadata": {
  "kernelspec": {
   "display_name": "Python 3",
   "language": "python",
   "name": "python3"
  },
  "language_info": {
   "codemirror_mode": {
    "name": "ipython",
    "version": 3
   },
   "file_extension": ".py",
   "mimetype": "text/x-python",
   "name": "python",
   "nbconvert_exporter": "python",
   "pygments_lexer": "ipython3",
   "version": "3.11.2"
  }
 },
 "nbformat": 4,
 "nbformat_minor": 2
}
